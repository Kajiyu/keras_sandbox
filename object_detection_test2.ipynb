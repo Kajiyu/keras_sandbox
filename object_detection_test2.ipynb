{
 "cells": [
  {
   "cell_type": "code",
   "execution_count": 1,
   "metadata": {
    "collapsed": false
   },
   "outputs": [
    {
     "name": "stderr",
     "output_type": "stream",
     "text": [
      "Using TensorFlow backend.\n"
     ]
    }
   ],
   "source": [
    "import csv\n",
    "import sys\n",
    "import shutil\n",
    "sys.path.append('..')\n",
    "from aitoolkit import ObjectDetector"
   ]
  },
  {
   "cell_type": "code",
   "execution_count": 2,
   "metadata": {
    "collapsed": false
   },
   "outputs": [
    {
     "name": "stdout",
     "output_type": "stream",
     "text": [
      "id,label\n",
      "\n"
     ]
    }
   ],
   "source": [
    "### SETUP TRAINING DATA\n",
    "train_data_images_path = 'raw_data/object_detection2/'\n",
    "train_label_csv = 'raw_data/object_detection2_labels.csv'\n",
    "labels = []\n",
    "\n",
    "with open(train_label_csv, 'r') as f:\n",
    "    reader = csv.reader(f)\n",
    "    header = next(f)\n",
    "    print header\n",
    "    csv_index = 0\n",
    "    for row in reader:\n",
    "        is_label = False\n",
    "        for label in labels:\n",
    "            if row[1] == label:\n",
    "                is_label = True\n",
    "        if is_label == False:\n",
    "            labels.append(row[1])\n",
    "        in_image_path = train_data_images_path + row[0] + '.png'\n",
    "        if csv_index < 38000:\n",
    "            out_image_path = 'data/object_detection2/train/' + row[1] + '/' + row[0] + '.png'\n",
    "        else:\n",
    "            out_image_path = 'data/object_detection2/validation/' + row[1] + '/' + row[0] + '.png'\n",
    "        shutil.copy(in_image_path, out_image_path)\n",
    "        csv_index = csv_index + 1"
   ]
  },
  {
   "cell_type": "code",
   "execution_count": 3,
   "metadata": {
    "collapsed": false,
    "scrolled": true
   },
   "outputs": [
    {
     "name": "stdout",
     "output_type": "stream",
     "text": [
      "____________________________________________________________________________________________________\n",
      "Layer (type)                     Output Shape          Param #     Connected to                     \n",
      "====================================================================================================\n",
      "input_1 (InputLayer)             (None, 150, 150, 3)   0                                            \n",
      "____________________________________________________________________________________________________\n",
      "block1_conv1 (Convolution2D)     (None, 150, 150, 64)  1792        input_1[0][0]                    \n",
      "____________________________________________________________________________________________________\n",
      "block1_conv2 (Convolution2D)     (None, 150, 150, 64)  36928       block1_conv1[0][0]               \n",
      "____________________________________________________________________________________________________\n",
      "block1_pool (MaxPooling2D)       (None, 75, 75, 64)    0           block1_conv2[0][0]               \n",
      "____________________________________________________________________________________________________\n",
      "block2_conv1 (Convolution2D)     (None, 75, 75, 128)   73856       block1_pool[0][0]                \n",
      "____________________________________________________________________________________________________\n",
      "block2_conv2 (Convolution2D)     (None, 75, 75, 128)   147584      block2_conv1[0][0]               \n",
      "____________________________________________________________________________________________________\n",
      "block2_pool (MaxPooling2D)       (None, 37, 37, 128)   0           block2_conv2[0][0]               \n",
      "____________________________________________________________________________________________________\n",
      "block3_conv1 (Convolution2D)     (None, 37, 37, 256)   295168      block2_pool[0][0]                \n",
      "____________________________________________________________________________________________________\n",
      "block3_conv2 (Convolution2D)     (None, 37, 37, 256)   590080      block3_conv1[0][0]               \n",
      "____________________________________________________________________________________________________\n",
      "block3_conv3 (Convolution2D)     (None, 37, 37, 256)   590080      block3_conv2[0][0]               \n",
      "____________________________________________________________________________________________________\n",
      "block3_pool (MaxPooling2D)       (None, 18, 18, 256)   0           block3_conv3[0][0]               \n",
      "____________________________________________________________________________________________________\n",
      "block4_conv1 (Convolution2D)     (None, 18, 18, 512)   1180160     block3_pool[0][0]                \n",
      "____________________________________________________________________________________________________\n",
      "block4_conv2 (Convolution2D)     (None, 18, 18, 512)   2359808     block4_conv1[0][0]               \n",
      "____________________________________________________________________________________________________\n",
      "block4_conv3 (Convolution2D)     (None, 18, 18, 512)   2359808     block4_conv2[0][0]               \n",
      "____________________________________________________________________________________________________\n",
      "block4_pool (MaxPooling2D)       (None, 9, 9, 512)     0           block4_conv3[0][0]               \n",
      "____________________________________________________________________________________________________\n",
      "block5_conv1 (Convolution2D)     (None, 9, 9, 512)     2359808     block4_pool[0][0]                \n",
      "____________________________________________________________________________________________________\n",
      "block5_conv2 (Convolution2D)     (None, 9, 9, 512)     2359808     block5_conv1[0][0]               \n",
      "____________________________________________________________________________________________________\n",
      "block5_conv3 (Convolution2D)     (None, 9, 9, 512)     2359808     block5_conv2[0][0]               \n",
      "____________________________________________________________________________________________________\n",
      "block5_pool (MaxPooling2D)       (None, 4, 4, 512)     0           block5_conv3[0][0]               \n",
      "____________________________________________________________________________________________________\n",
      "sequential_1 (Sequential)        (None, 10)            2099978     block5_pool[0][0]                \n",
      "====================================================================================================\n",
      "Total params: 16,814,666\n",
      "Trainable params: 9,179,402\n",
      "Non-trainable params: 7,635,264\n",
      "____________________________________________________________________________________________________\n",
      "Found 38000 images belonging to 10 classes.\n",
      "Found 12000 images belonging to 10 classes.\n"
     ]
    }
   ],
   "source": [
    "detector = ObjectDetector(num_of_detection=10, train_data_dir = 'data/object_detection2/train',\\\n",
    "                          validation_data_dir = 'data/object_detection2/validation', result_data_dir = 'results/object_detection2')\n",
    "detector.create_model()\n",
    "detector.get_model_summary()\n",
    "detector.create_datasets(labels)"
   ]
  },
  {
   "cell_type": "code",
   "execution_count": null,
   "metadata": {
    "collapsed": false,
    "scrolled": true
   },
   "outputs": [
    {
     "name": "stdout",
     "output_type": "stream",
     "text": [
      "Epoch 1/40\n",
      "  64/3000 [..............................] - ETA: 897s - loss: 2.8891 - acc: 0.0625"
     ]
    }
   ],
   "source": [
    "detector.fit(nb_train_samples = 3000, nb_validation_samples = 800, nb_epoch = 40)"
   ]
  },
  {
   "cell_type": "code",
   "execution_count": 6,
   "metadata": {
    "collapsed": false
   },
   "outputs": [],
   "source": [
    "detector.output_history(\"epoch1.txt\")"
   ]
  },
  {
   "cell_type": "code",
   "execution_count": 7,
   "metadata": {
    "collapsed": false
   },
   "outputs": [
    {
     "name": "stdout",
     "output_type": "stream",
     "text": [
      "[ 0.64923668  0.49603978  0.48256823  0.67217028  0.52378374  0.52850246\n",
      "  0.52458435  0.88154066  0.51194745  0.61135423]\n"
     ]
    }
   ],
   "source": [
    "detector.detect('detect_data/dog1.jpg')"
   ]
  },
  {
   "cell_type": "code",
   "execution_count": null,
   "metadata": {
    "collapsed": true
   },
   "outputs": [],
   "source": []
  }
 ],
 "metadata": {
  "kernelspec": {
   "display_name": "Python 2",
   "language": "python",
   "name": "python2"
  },
  "language_info": {
   "codemirror_mode": {
    "name": "ipython",
    "version": 2
   },
   "file_extension": ".py",
   "mimetype": "text/x-python",
   "name": "python",
   "nbconvert_exporter": "python",
   "pygments_lexer": "ipython2",
   "version": "2.7.11"
  }
 },
 "nbformat": 4,
 "nbformat_minor": 0
}
