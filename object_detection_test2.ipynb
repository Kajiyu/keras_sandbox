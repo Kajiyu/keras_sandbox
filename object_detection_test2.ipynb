{
 "cells": [
  {
   "cell_type": "code",
   "execution_count": 1,
   "metadata": {
    "collapsed": false
   },
   "outputs": [
    {
     "name": "stderr",
     "output_type": "stream",
     "text": [
      "Using TensorFlow backend.\n"
     ]
    }
   ],
   "source": [
    "import csv\n",
    "import sys\n",
    "import shutil\n",
    "sys.path.append('..')\n",
    "from aitoolkit import ObjectDetector\n",
    "% matplotlib inline"
   ]
  },
  {
   "cell_type": "code",
   "execution_count": 2,
   "metadata": {
    "collapsed": false
   },
   "outputs": [
    {
     "name": "stdout",
     "output_type": "stream",
     "text": [
      "id,label\n",
      "\n"
     ]
    }
   ],
   "source": [
    "### SETUP TRAINING DATA\n",
    "train_data_images_path = 'raw_data/object_detection2/'\n",
    "train_label_csv = 'raw_data/object_detection2_labels.csv'\n",
    "labels = []\n",
    "\n",
    "with open(train_label_csv, 'r') as f:\n",
    "    reader = csv.reader(f)\n",
    "    header = next(f)\n",
    "    print header\n",
    "    csv_index = 0\n",
    "    for row in reader:\n",
    "        is_label = False\n",
    "        for label in labels:\n",
    "            if row[1] == label:\n",
    "                is_label = True\n",
    "        if is_label == False:\n",
    "            labels.append(row[1])\n",
    "        in_image_path = train_data_images_path + row[0] + '.png'\n",
    "        if csv_index < 38000:\n",
    "            out_image_path = 'data/object_detection2/train/' + row[1] + '/' + row[0] + '.png'\n",
    "        else:\n",
    "            out_image_path = 'data/object_detection2/validation/' + row[1] + '/' + row[0] + '.png'\n",
    "        shutil.copy(in_image_path, out_image_path)\n",
    "        csv_index = csv_index + 1"
   ]
  },
  {
   "cell_type": "code",
   "execution_count": 3,
   "metadata": {
    "collapsed": false,
    "scrolled": true
   },
   "outputs": [
    {
     "name": "stdout",
     "output_type": "stream",
     "text": [
      "Found 38000 images belonging to 10 classes.\n",
      "Found 12000 images belonging to 10 classes.\n"
     ]
    }
   ],
   "source": [
    "detector = ObjectDetector(num_of_detection=10, train_data_dir = 'data/object_detection2/train',\\\n",
    "                          validation_data_dir = 'data/object_detection2/validation', result_data_dir = 'results/object_detection2')\n",
    "detector.create_model()\n",
    "#  detector.get_model_summary()\n",
    "detector.create_datasets(labels)"
   ]
  },
  {
   "cell_type": "code",
   "execution_count": null,
   "metadata": {
    "collapsed": false,
    "scrolled": true
   },
   "outputs": [
    {
     "name": "stdout",
     "output_type": "stream",
     "text": [
      "------------------------------------------------------------------------------------------------\n",
      "------------------------------------------------------------------------------------------------\n",
      "Epoch 1/100\n",
      "128/400 [========>.....................] - ETA: 74s - loss: 2.6655 - acc: 0.1172"
     ]
    }
   ],
   "source": [
    "detector.fit(nb_train_samples = 400, nb_validation_samples = 800, nb_epoch = 100, test_image_dir='./detect_data/object_detection_test2/')"
   ]
  },
  {
   "cell_type": "code",
   "execution_count": 5,
   "metadata": {
    "collapsed": false
   },
   "outputs": [],
   "source": [
    "detector.output_history(\"epoch2.txt\")"
   ]
  },
  {
   "cell_type": "code",
   "execution_count": 8,
   "metadata": {
    "collapsed": false
   },
   "outputs": [
    {
     "name": "stdout",
     "output_type": "stream",
     "text": [
      "['frog', 'truck', 'deer', 'automobile', 'bird', 'horse', 'ship', 'cat', 'dog', 'airplane']\n",
      "[  3.88570391e-02   2.13786087e-04   1.76464450e-02   1.52265432e-03\n",
      "   1.18850283e-01   7.66889095e-01   1.68239276e-04   3.60282348e-03\n",
      "   5.00721224e-02   2.17763591e-03]\n"
     ]
    }
   ],
   "source": [
    "print labels\n",
    "detector.detect('detect_data/object_detection_test2/horse.jpg')"
   ]
  },
  {
   "cell_type": "code",
   "execution_count": 18,
   "metadata": {
    "collapsed": false
   },
   "outputs": [],
   "source": [
    "import json\n",
    "detector.model.save_weights('results/object_detection2/weights1.h5');\n",
    "model_json = detector.model.to_json()\n",
    "with open('results/object_detection2/vgg16tocifar10_model.json', 'w') as f:\n",
    "    f.write(model_json)"
   ]
  },
  {
   "cell_type": "code",
   "execution_count": null,
   "metadata": {
    "collapsed": true
   },
   "outputs": [],
   "source": []
  }
 ],
 "metadata": {
  "kernelspec": {
   "display_name": "Python 2",
   "language": "python",
   "name": "python2"
  },
  "language_info": {
   "codemirror_mode": {
    "name": "ipython",
    "version": 2
   },
   "file_extension": ".py",
   "mimetype": "text/x-python",
   "name": "python",
   "nbconvert_exporter": "python",
   "pygments_lexer": "ipython2",
   "version": "2.7.11"
  }
 },
 "nbformat": 4,
 "nbformat_minor": 0
}
