{
 "cells": [
  {
   "cell_type": "code",
   "execution_count": 1,
   "metadata": {
    "collapsed": true
   },
   "outputs": [],
   "source": [
    "import os"
   ]
  },
  {
   "cell_type": "code",
   "execution_count": 2,
   "metadata": {
    "collapsed": true
   },
   "outputs": [],
   "source": [
    "source_dir = \"./train\"\n",
    "train_dir = 'data/object_detection/train'\n",
    "valid_dir = 'data/object_detection/validation'\n",
    "\n",
    "os.makedirs(\"%s/dogs\" % train_dir)\n",
    "os.makedirs(\"%s/cats\" % train_dir)\n",
    "os.makedirs(\"%s/dogs\" % valid_dir)\n",
    "os.makedirs(\"%s/cats\" % valid_dir)\n",
    "\n",
    "# 最初の1000枚の画像をtrain_dirに移動\n",
    "for i in range(1000):\n",
    "    os.rename(\"%s/dog.%d.jpg\" % (source_dir, i + 1),\n",
    "              \"%s/dogs/dog%04d.jpg\" % (train_dir, i + 1))\n",
    "    os.rename(\"%s/cat.%d.jpg\" % (source_dir, i + 1),\n",
    "              \"%s/cats/cat%04d.jpg\" % (train_dir, i + 1))\n",
    "\n",
    "# 次の400枚の画像をvalid_dirに移動\n",
    "for i in range(400):\n",
    "    os.rename(\"%s/dog.%d.jpg\" % (source_dir, 1000 + i + 1),\n",
    "              \"%s/dogs/dog%04d.jpg\" % (valid_dir, i + 1))\n",
    "    os.rename(\"%s/cat.%d.jpg\" % (source_dir, 1000 + i + 1),\n",
    "              \"%s/cats/cat%04d.jpg\" % (valid_dir, i + 1))"
   ]
  },
  {
   "cell_type": "code",
   "execution_count": null,
   "metadata": {
    "collapsed": true
   },
   "outputs": [],
   "source": []
  }
 ],
 "metadata": {
  "kernelspec": {
   "display_name": "Python 2",
   "language": "python",
   "name": "python2"
  },
  "language_info": {
   "codemirror_mode": {
    "name": "ipython",
    "version": 2
   },
   "file_extension": ".py",
   "mimetype": "text/x-python",
   "name": "python",
   "nbconvert_exporter": "python",
   "pygments_lexer": "ipython2",
   "version": "2.7.11"
  }
 },
 "nbformat": 4,
 "nbformat_minor": 0
}
