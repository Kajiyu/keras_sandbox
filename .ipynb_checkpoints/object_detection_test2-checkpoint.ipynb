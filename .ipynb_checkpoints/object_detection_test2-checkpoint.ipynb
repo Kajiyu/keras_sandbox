{
 "cells": [
  {
   "cell_type": "code",
   "execution_count": 1,
   "metadata": {
    "collapsed": false
   },
   "outputs": [
    {
     "name": "stderr",
     "output_type": "stream",
     "text": [
      "Using TensorFlow backend.\n"
     ]
    }
   ],
   "source": [
    "import csv\n",
    "import sys\n",
    "import shutil\n",
    "sys.path.append('..')\n",
    "from aitoolkit import ObjectDetector"
   ]
  },
  {
   "cell_type": "code",
   "execution_count": 2,
   "metadata": {
    "collapsed": false
   },
   "outputs": [
    {
     "name": "stdout",
     "output_type": "stream",
     "text": [
      "id,label\n",
      "\n"
     ]
    }
   ],
   "source": [
    "### SETUP TRAINING DATA\n",
    "train_data_images_path = 'raw_data/object_detection2/'\n",
    "train_label_csv = 'raw_data/object_detection2_labels.csv'\n",
    "labels = []\n",
    "\n",
    "with open(train_label_csv, 'r') as f:\n",
    "    reader = csv.reader(f)\n",
    "    header = next(f)\n",
    "    print header\n",
    "    csv_index = 0\n",
    "    for row in reader:\n",
    "        is_label = False\n",
    "        for label in labels:\n",
    "            if row[1] == label:\n",
    "                is_label = True\n",
    "        if is_label == False:\n",
    "            labels.append(row[1])\n",
    "        in_image_path = train_data_images_path + row[0] + '.png'\n",
    "        if csv_index < 38000:\n",
    "            out_image_path = 'data/object_detection2/train/' + row[1] + '/' + row[0] + '.png'\n",
    "        else:\n",
    "            out_image_path = 'data/object_detection2/validation/' + row[1] + '/' + row[0] + '.png'\n",
    "        shutil.copy(in_image_path, out_image_path)\n",
    "        csv_index = csv_index + 1"
   ]
  },
  {
   "cell_type": "code",
   "execution_count": 3,
   "metadata": {
    "collapsed": false,
    "scrolled": true
   },
   "outputs": [
    {
     "name": "stdout",
     "output_type": "stream",
     "text": [
      "____________________________________________________________________________________________________\n",
      "Layer (type)                     Output Shape          Param #     Connected to                     \n",
      "====================================================================================================\n",
      "input_1 (InputLayer)             (None, 150, 150, 3)   0                                            \n",
      "____________________________________________________________________________________________________\n",
      "block1_conv1 (Convolution2D)     (None, 150, 150, 64)  1792        input_1[0][0]                    \n",
      "____________________________________________________________________________________________________\n",
      "block1_conv2 (Convolution2D)     (None, 150, 150, 64)  36928       block1_conv1[0][0]               \n",
      "____________________________________________________________________________________________________\n",
      "block1_pool (MaxPooling2D)       (None, 75, 75, 64)    0           block1_conv2[0][0]               \n",
      "____________________________________________________________________________________________________\n",
      "block2_conv1 (Convolution2D)     (None, 75, 75, 128)   73856       block1_pool[0][0]                \n",
      "____________________________________________________________________________________________________\n",
      "block2_conv2 (Convolution2D)     (None, 75, 75, 128)   147584      block2_conv1[0][0]               \n",
      "____________________________________________________________________________________________________\n",
      "block2_pool (MaxPooling2D)       (None, 37, 37, 128)   0           block2_conv2[0][0]               \n",
      "____________________________________________________________________________________________________\n",
      "block3_conv1 (Convolution2D)     (None, 37, 37, 256)   295168      block2_pool[0][0]                \n",
      "____________________________________________________________________________________________________\n",
      "block3_conv2 (Convolution2D)     (None, 37, 37, 256)   590080      block3_conv1[0][0]               \n",
      "____________________________________________________________________________________________________\n",
      "block3_conv3 (Convolution2D)     (None, 37, 37, 256)   590080      block3_conv2[0][0]               \n",
      "____________________________________________________________________________________________________\n",
      "block3_pool (MaxPooling2D)       (None, 18, 18, 256)   0           block3_conv3[0][0]               \n",
      "____________________________________________________________________________________________________\n",
      "block4_conv1 (Convolution2D)     (None, 18, 18, 512)   1180160     block3_pool[0][0]                \n",
      "____________________________________________________________________________________________________\n",
      "block4_conv2 (Convolution2D)     (None, 18, 18, 512)   2359808     block4_conv1[0][0]               \n",
      "____________________________________________________________________________________________________\n",
      "block4_conv3 (Convolution2D)     (None, 18, 18, 512)   2359808     block4_conv2[0][0]               \n",
      "____________________________________________________________________________________________________\n",
      "block4_pool (MaxPooling2D)       (None, 9, 9, 512)     0           block4_conv3[0][0]               \n",
      "____________________________________________________________________________________________________\n",
      "block5_conv1 (Convolution2D)     (None, 9, 9, 512)     2359808     block4_pool[0][0]                \n",
      "____________________________________________________________________________________________________\n",
      "block5_conv2 (Convolution2D)     (None, 9, 9, 512)     2359808     block5_conv1[0][0]               \n",
      "____________________________________________________________________________________________________\n",
      "block5_conv3 (Convolution2D)     (None, 9, 9, 512)     2359808     block5_conv2[0][0]               \n",
      "____________________________________________________________________________________________________\n",
      "block5_pool (MaxPooling2D)       (None, 4, 4, 512)     0           block5_conv3[0][0]               \n",
      "____________________________________________________________________________________________________\n",
      "sequential_1 (Sequential)        (None, 10)            2099978     block5_pool[0][0]                \n",
      "====================================================================================================\n",
      "Total params: 16,814,666\n",
      "Trainable params: 9,179,402\n",
      "Non-trainable params: 7,635,264\n",
      "____________________________________________________________________________________________________\n",
      "Found 38000 images belonging to 10 classes.\n",
      "Found 12000 images belonging to 10 classes.\n"
     ]
    }
   ],
   "source": [
    "detector = ObjectDetector(num_of_detection=10, train_data_dir = 'data/object_detection2/train',\\\n",
    "                          validation_data_dir = 'data/object_detection2/validation', result_data_dir = 'results/object_detection2')\n",
    "detector.create_model()\n",
    "detector.get_model_summary()\n",
    "detector.create_datasets(labels)"
   ]
  },
  {
   "cell_type": "code",
   "execution_count": 4,
   "metadata": {
    "collapsed": false,
    "scrolled": true
   },
   "outputs": [
    {
     "name": "stdout",
     "output_type": "stream",
     "text": [
      "Epoch 1/40\n",
      "3008/3000 [==============================] - 1066s - loss: 2.3338 - acc: 0.1413 - val_loss: 2.1518 - val_acc: 0.2800\n",
      "Epoch 2/40\n",
      "3008/3000 [==============================] - 1083s - loss: 2.0951 - acc: 0.2404 - val_loss: 1.9625 - val_acc: 0.3375\n",
      "Epoch 3/40\n",
      "3008/3000 [==============================] - 1057s - loss: 1.9470 - acc: 0.2955 - val_loss: 1.7537 - val_acc: 0.4300\n",
      "Epoch 4/40\n",
      "3008/3000 [==============================] - 1005s - loss: 1.8070 - acc: 0.3428 - val_loss: 1.6439 - val_acc: 0.4637\n",
      "Epoch 5/40\n",
      "3008/3000 [==============================] - 1014s - loss: 1.7013 - acc: 0.3893 - val_loss: 1.5141 - val_acc: 0.4938\n",
      "Epoch 6/40\n",
      "3008/3000 [==============================] - 1028s - loss: 1.6526 - acc: 0.4132 - val_loss: 1.3941 - val_acc: 0.5525\n",
      "Epoch 7/40\n",
      "3008/3000 [==============================] - 1072s - loss: 1.5301 - acc: 0.4624 - val_loss: 1.4257 - val_acc: 0.5238\n",
      "Epoch 8/40\n",
      "3008/3000 [==============================] - 1074s - loss: 1.5162 - acc: 0.4624 - val_loss: 1.2662 - val_acc: 0.5950\n",
      "Epoch 9/40\n",
      "3008/3000 [==============================] - 1082s - loss: 1.4270 - acc: 0.4977 - val_loss: 1.2761 - val_acc: 0.5700\n",
      "Epoch 10/40\n",
      "3008/3000 [==============================] - 1104s - loss: 1.4028 - acc: 0.5060 - val_loss: 1.2620 - val_acc: 0.5663\n",
      "Epoch 11/40\n",
      "3008/3000 [==============================] - 1095s - loss: 1.3881 - acc: 0.5329 - val_loss: 1.2307 - val_acc: 0.5975\n",
      "Epoch 12/40\n",
      "3008/3000 [==============================] - 1081s - loss: 1.3375 - acc: 0.5276 - val_loss: 1.1487 - val_acc: 0.6200\n",
      "Epoch 13/40\n",
      "3024/3000 [==============================] - 1102s - loss: 1.3471 - acc: 0.5354 - val_loss: 1.2085 - val_acc: 0.5900\n",
      "Epoch 14/40\n",
      "3008/3000 [==============================] - 1086s - loss: 1.2519 - acc: 0.5652 - val_loss: 1.0546 - val_acc: 0.6362\n",
      "Epoch 15/40\n",
      "3008/3000 [==============================] - 1092s - loss: 1.2683 - acc: 0.5638 - val_loss: 1.1323 - val_acc: 0.5988\n",
      "Epoch 16/40\n",
      "3008/3000 [==============================] - 1111s - loss: 1.2184 - acc: 0.5818 - val_loss: 0.9756 - val_acc: 0.6600\n",
      "Epoch 17/40\n",
      "3008/3000 [==============================] - 1060s - loss: 1.1729 - acc: 0.5951 - val_loss: 0.9719 - val_acc: 0.6550\n",
      "Epoch 18/40\n",
      "3008/3000 [==============================] - 1076s - loss: 1.1752 - acc: 0.5981 - val_loss: 1.0804 - val_acc: 0.6212\n",
      "Epoch 19/40\n",
      "3008/3000 [==============================] - 1634s - loss: 1.1849 - acc: 0.5884 - val_loss: 0.9605 - val_acc: 0.6713\n",
      "Epoch 20/40\n",
      "3008/3000 [==============================] - 1660s - loss: 1.1499 - acc: 0.6124 - val_loss: 0.9469 - val_acc: 0.6525\n",
      "Epoch 21/40\n",
      "3008/3000 [==============================] - 1069s - loss: 1.1135 - acc: 0.6213 - val_loss: 0.9898 - val_acc: 0.6550\n",
      "Epoch 22/40\n",
      "3008/3000 [==============================] - 1077s - loss: 1.1487 - acc: 0.6011 - val_loss: 0.9885 - val_acc: 0.6600\n",
      "Epoch 23/40\n",
      "3008/3000 [==============================] - 1074s - loss: 1.0912 - acc: 0.6210 - val_loss: 0.9364 - val_acc: 0.6887\n",
      "Epoch 24/40\n",
      "3008/3000 [==============================] - 1060s - loss: 1.0816 - acc: 0.6297 - val_loss: 0.9305 - val_acc: 0.7063\n",
      "Epoch 25/40\n",
      "3008/3000 [==============================] - 1052s - loss: 1.1045 - acc: 0.6200 - val_loss: 0.9238 - val_acc: 0.6925\n",
      "Epoch 26/40\n",
      "3024/3000 [==============================] - 1038s - loss: 1.0851 - acc: 0.6306 - val_loss: 0.9719 - val_acc: 0.6675\n",
      "Epoch 27/40\n",
      "3008/3000 [==============================] - 1057s - loss: 1.0481 - acc: 0.6396 - val_loss: 0.7923 - val_acc: 0.7137\n",
      "Epoch 28/40\n",
      "3008/3000 [==============================] - 1081s - loss: 1.0528 - acc: 0.6479 - val_loss: 0.8989 - val_acc: 0.6900\n",
      "Epoch 29/40\n",
      "3008/3000 [==============================] - 2300s - loss: 1.0301 - acc: 0.6483 - val_loss: 0.8865 - val_acc: 0.7100\n",
      "Epoch 30/40\n",
      "3008/3000 [==============================] - 1129s - loss: 1.0133 - acc: 0.6476 - val_loss: 0.8518 - val_acc: 0.7025\n",
      "Epoch 31/40\n",
      "3008/3000 [==============================] - 996s - loss: 0.9831 - acc: 0.6666 - val_loss: 0.7948 - val_acc: 0.7087\n",
      "Epoch 32/40\n",
      "3008/3000 [==============================] - 955s - loss: 0.9895 - acc: 0.6582 - val_loss: 0.8636 - val_acc: 0.6850\n",
      "Epoch 33/40\n",
      "3008/3000 [==============================] - 1005s - loss: 1.0120 - acc: 0.6539 - val_loss: 0.9009 - val_acc: 0.6875\n",
      "Epoch 34/40\n",
      "3008/3000 [==============================] - 956s - loss: 0.9572 - acc: 0.6642 - val_loss: 0.8425 - val_acc: 0.7113\n",
      "Epoch 35/40\n",
      "3008/3000 [==============================] - 953s - loss: 0.9416 - acc: 0.6799 - val_loss: 0.7993 - val_acc: 0.7225\n",
      "Epoch 36/40\n",
      "3008/3000 [==============================] - 1072s - loss: 0.9883 - acc: 0.6526 - val_loss: 0.8191 - val_acc: 0.7350\n",
      "Epoch 37/40\n",
      "3008/3000 [==============================] - 1130s - loss: 0.9851 - acc: 0.6632 - val_loss: 0.8032 - val_acc: 0.7325\n",
      "Epoch 38/40\n",
      "3024/3000 [==============================] - 1067s - loss: 0.9642 - acc: 0.6766 - val_loss: 0.7876 - val_acc: 0.7087\n",
      "Epoch 39/40\n",
      "3008/3000 [==============================] - 1003s - loss: 0.9555 - acc: 0.6795 - val_loss: 0.8043 - val_acc: 0.7350\n",
      "Epoch 40/40\n",
      "3008/3000 [==============================] - 1007s - loss: 0.9216 - acc: 0.6852 - val_loss: 0.7648 - val_acc: 0.7525\n"
     ]
    },
    {
     "name": "stderr",
     "output_type": "stream",
     "text": [
      "/Users/YumaKajihara/.pyenv/versions/anaconda2-2.5.0/lib/python2.7/site-packages/keras/engine/training.py:1527: UserWarning: Epoch comprised more than `samples_per_epoch` samples, which might affect learning results. Set `samples_per_epoch` correctly to avoid this warning.\n",
      "  warnings.warn('Epoch comprised more than '\n"
     ]
    }
   ],
   "source": [
    "detector.fit(nb_train_samples = 3000, nb_validation_samples = 800, nb_epoch = 40)"
   ]
  },
  {
   "cell_type": "code",
   "execution_count": 5,
   "metadata": {
    "collapsed": false
   },
   "outputs": [],
   "source": [
    "detector.output_history(\"epoch2.txt\")"
   ]
  },
  {
   "cell_type": "code",
   "execution_count": 8,
   "metadata": {
    "collapsed": false
   },
   "outputs": [
    {
     "name": "stdout",
     "output_type": "stream",
     "text": [
      "['frog', 'truck', 'deer', 'automobile', 'bird', 'horse', 'ship', 'cat', 'dog', 'airplane']\n",
      "[  3.88570391e-02   2.13786087e-04   1.76464450e-02   1.52265432e-03\n",
      "   1.18850283e-01   7.66889095e-01   1.68239276e-04   3.60282348e-03\n",
      "   5.00721224e-02   2.17763591e-03]\n"
     ]
    }
   ],
   "source": [
    "print labels\n",
    "detector.detect('detect_data/object_detection_test2/horse.jpg')"
   ]
  },
  {
   "cell_type": "code",
   "execution_count": 9,
   "metadata": {
    "collapsed": true
   },
   "outputs": [],
   "source": [
    "detector.model.save_weights('results/object_detection2/weights1.h5');\n",
    "model_json = detector.model.to_json()"
   ]
  }
 ],
 "metadata": {
  "kernelspec": {
   "display_name": "Python 2",
   "language": "python",
   "name": "python2"
  },
  "language_info": {
   "codemirror_mode": {
    "name": "ipython",
    "version": 2
   },
   "file_extension": ".py",
   "mimetype": "text/x-python",
   "name": "python",
   "nbconvert_exporter": "python",
   "pygments_lexer": "ipython2",
   "version": "2.7.11"
  }
 },
 "nbformat": 4,
 "nbformat_minor": 0
}
